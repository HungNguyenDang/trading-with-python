{
 "cells": [
  {
   "cell_type": "markdown",
   "metadata": {},
   "source": [
    "# How to send orders to the Market"
   ]
  },
  {
   "cell_type": "code",
   "execution_count": 2,
   "metadata": {},
   "outputs": [
    {
     "data": {
      "text/plain": [
       "True"
      ]
     },
     "execution_count": 2,
     "metadata": {},
     "output_type": "execute_result"
    }
   ],
   "source": [
    "import MetaTrader5 as mt5\n",
    "mt5.initialize()"
   ]
  },
  {
   "cell_type": "code",
   "execution_count": 82,
   "metadata": {},
   "outputs": [
    {
     "data": {
      "text/plain": [
       "OrderSendResult(retcode=10009, deal=117070209, order=165405573, volume=1.0, price=61638.68, bid=61628.32, ask=61638.68, comment='Request executed', request_id=37, retcode_external=0, request=TradeRequest(action=1, magic=100, order=0, symbol='BTCUSD', volume=1.0, price=61640.18, stoplimit=0.0, sl=0.0, tp=0.0, deviation=20, type=0, type_filling=1, type_time=0, expiration=0, comment='python script open', position=0, position_by=0))"
      ]
     },
     "execution_count": 82,
     "metadata": {},
     "output_type": "execute_result"
    }
   ],
   "source": [
    "# market order\n",
    "\n",
    "request = {\n",
    "    \"action\": mt5.TRADE_ACTION_DEAL,  # TRADE_ACTION_DEAL tells the platform that we want to open a trade \n",
    "    \"symbol\": \"AUDUSD\",  # specify the symbol on which you want to open a trade\n",
    "    \"volume\": 0.1,  # amount of contracts you want to open\n",
    "    \"type\": mt5.ORDER_TYPE_BUY,  # ORDER_TYPE_BUY specifies a BUY order, use mt5.ORDER_TYPE_SELL to sell\n",
    "    \"price\": mt5.symbol_info_tick(\"AUDUSD\").ask,  # specify the price for which you want to buy\n",
    "    \"sl\": 0.0,  # stoploss\n",
    "    \"tp\": 0.0,  # take profit\n",
    "    \"deviation\": 20,  # maximum amount of slippage allowed for your market order, otherwise reject\n",
    "    # \"magic\": 100,  # unique number identifier of the order\n",
    "    \"comment\": \"python script open\",  # order comment\n",
    "    \"type_time\": mt5.ORDER_TIME_GTC,  # GTC (Good-Til-Cancelled) means that the order will remain active until cancelled\n",
    "    \"type_filling\": mt5.ORDER_FILLING_IOC,  # Allows partial fill of order. If the rest can't be filled, it will be cancelled\n",
    "}\n",
    "\n",
    "result = mt5.order_send(request)\n",
    "result"
   ]
  },
  {
   "cell_type": "code",
   "execution_count": 75,
   "metadata": {},
   "outputs": [
    {
     "name": "stdout",
     "output_type": "stream",
     "text": [
      "TradePosition(ticket=165405532, time=1635608795, time_msc=1635608795822, time_update=1635608795, time_update_msc=1635608795822, type=0, magic=100, identifier=165405532, reason=3, volume=1.0, price_open=61630.94, sl=0.0, tp=0.0, price_current=61669.33, swap=0.0, profit=38.39, symbol='BTCUSD', comment='python script op', external_id='')\n"
     ]
    },
    {
     "data": {
      "text/plain": [
       "OrderSendResult(retcode=10009, deal=117070181, order=165405544, volume=1.0, price=61669.33, bid=61669.33, ask=61679.69, comment='Request executed', request_id=28, retcode_external=0, request=TradeRequest(action=1, magic=100, order=0, symbol='BTCUSD', volume=1.0, price=61669.33, stoplimit=0.0, sl=0.0, tp=0.0, deviation=20, type=1, type_filling=1, type_time=0, expiration=0, comment='python script close', position=165405532, position_by=0))"
      ]
     },
     "execution_count": 75,
     "metadata": {},
     "output_type": "execute_result"
    }
   ],
   "source": [
    "# close order\n",
    "position = mt5.positions_get(ticket=165405532)[0]\n",
    "print(position)\n",
    "\n",
    "tick = mt5.symbol_info_tick(\"AUDUSD\")\n",
    "\n",
    "request = {\n",
    "    \"action\": mt5.TRADE_ACTION_DEAL,\n",
    "    \"position\": position.ticket,\n",
    "    \"symbol\": position.symbol,\n",
    "    \"volume\": position.volume,\n",
    "    \"type\": mt5.ORDER_TYPE_BUY if position.type == 1 else mt5.ORDER_TYPE_SELL,\n",
    "    \"price\": tick.ask if position.type == 1 else tick.bid,  \n",
    "    \"deviation\": 20,\n",
    "    #\"magic\": 100,\n",
    "    \"comment\": \"python script close\",\n",
    "    \"type_time\": mt5.ORDER_TIME_GTC,\n",
    "    \"type_filling\": mt5.ORDER_FILLING_IOC,\n",
    "}\n",
    "\n",
    "result = mt5.order_send(request)\n",
    "result\n"
   ]
  },
  {
   "cell_type": "code",
   "execution_count": 79,
   "metadata": {},
   "outputs": [
    {
     "name": "stdout",
     "output_type": "stream",
     "text": [
      "TradePosition(ticket=165405546, time=1635608954, time_msc=1635608954905, time_update=1635609013, time_update_msc=1635609013271, type=0, magic=100, identifier=165405546, reason=3, volume=0.25, price_open=61666.69, sl=0.0, tp=0.0, price_current=61683.03, swap=0.0, profit=4.09, symbol='BTCUSD', comment='python script cl', external_id='')\n"
     ]
    },
    {
     "data": {
      "text/plain": [
       "OrderSendResult(retcode=10009, deal=117070192, order=165405557, volume=0.25, price=61671.33, bid=61671.33, ask=61693.48, comment='Request executed', request_id=32, retcode_external=0, request=TradeRequest(action=1, magic=100, order=0, symbol='BTCUSD', volume=0.25, price=61683.03, stoplimit=0.0, sl=0.0, tp=0.0, deviation=20, type=1, type_filling=1, type_time=0, expiration=0, comment='python script close', position=165405546, position_by=0))"
      ]
     },
     "execution_count": 79,
     "metadata": {},
     "output_type": "execute_result"
    }
   ],
   "source": [
    "# partial close\n",
    "position = mt5.positions_get(ticket=165405546)[0]\n",
    "print(position)\n",
    "\n",
    "tick = mt5.symbol_info_tick(\"BTCUSD\")\n",
    "\n",
    "request = {\n",
    "    \"action\": mt5.TRADE_ACTION_DEAL,\n",
    "    \"position\": position.ticket,\n",
    "    \"symbol\": position.symbol,\n",
    "    \"volume\": 0.25,\n",
    "    \"type\": mt5.ORDER_TYPE_BUY if position.type == 1 else mt5.ORDER_TYPE_SELL,\n",
    "    \"price\": tick.ask if position.type == 1 else tick.bid,  \n",
    "    \"deviation\": 20,\n",
    "    \"magic\": 100,\n",
    "    \"comment\": \"python script close\",\n",
    "    \"type_time\": mt5.ORDER_TIME_GTC,\n",
    "    \"type_filling\": mt5.ORDER_FILLING_IOC,\n",
    "}\n",
    "\n",
    "result = mt5.order_send(request)\n",
    "result"
   ]
  },
  {
   "cell_type": "code",
   "execution_count": 84,
   "metadata": {},
   "outputs": [
    {
     "data": {
      "text/plain": [
       "OrderSendResult(retcode=10009, deal=0, order=165405584, volume=1.0, price=0.0, bid=0.0, ask=0.0, comment='Request executed', request_id=40, retcode_external=0, request=TradeRequest(action=5, magic=100, order=0, symbol='BTCUSD', volume=1.0, price=60704.19, stoplimit=0.0, sl=0.0, tp=0.0, deviation=0, type=2, type_filling=2, type_time=0, expiration=0, comment='python script buy limit', position=0, position_by=0))"
      ]
     },
     "execution_count": 84,
     "metadata": {},
     "output_type": "execute_result"
    }
   ],
   "source": [
    "# limit order\n",
    "\n",
    "request = {\n",
    "    \"action\": mt5.TRADE_ACTION_PENDING,\n",
    "    \"symbol\": \"BTCUSD\",  \n",
    "    \"volume\": 1.0, \n",
    "    \"type\": mt5.ORDER_TYPE_BUY_LIMIT,  # use ORDER_TYPE_SELL_LIMIT for sell limit orders\n",
    "    \"price\": mt5.symbol_info_tick(\"BTCUSD\").ask - 1000,  \n",
    "    \"sl\": 0.0,  \n",
    "    \"tp\": 0.0,  \n",
    "    \"magic\": 100, \n",
    "    \"comment\": \"python script buy limit\", \n",
    "    \"type_time\": mt5.ORDER_TIME_GTC, \n",
    "    \"type_filling\": mt5.ORDER_FILLING_RETURN,\n",
    "}\n",
    "\n",
    "result = mt5.order_send(request)\n",
    "result"
   ]
  },
  {
   "cell_type": "code",
   "execution_count": 81,
   "metadata": {},
   "outputs": [
    {
     "data": {
      "text/plain": [
       "OrderSendResult(retcode=10009, deal=0, order=165405571, volume=1.0, price=0.0, bid=0.0, ask=0.0, comment='Request executed', request_id=35, retcode_external=0, request=TradeRequest(action=5, magic=100, order=0, symbol='BTCUSD', volume=1.0, price=62656.19, stoplimit=0.0, sl=0.0, tp=0.0, deviation=0, type=4, type_filling=2, type_time=0, expiration=0, comment='python script buy stop', position=0, position_by=0))"
      ]
     },
     "execution_count": 81,
     "metadata": {},
     "output_type": "execute_result"
    }
   ],
   "source": [
    "# stop order\n",
    "\n",
    "request = {\n",
    "    \"action\": mt5.TRADE_ACTION_PENDING,\n",
    "    \"symbol\": \"BTCUSD\",  \n",
    "    \"volume\": 1.0, \n",
    "    \"type\": mt5.ORDER_TYPE_BUY_STOP,  # use ORDER_TYPE_SELL_STOP for sell stop orders\n",
    "    \"price\": mt5.symbol_info_tick(\"BTCUSD\").ask + 1000,  \n",
    "    \"sl\": 0.0,  \n",
    "    \"tp\": 0.0,  \n",
    "    \"magic\": 100, \n",
    "    \"comment\": \"python script buy stop\", \n",
    "    \"type_time\": mt5.ORDER_TIME_GTC, \n",
    "    \"type_filling\": mt5.ORDER_FILLING_RETURN,\n",
    "}\n",
    "\n",
    "result = mt5.order_send(request)\n",
    "result"
   ]
  },
  {
   "cell_type": "code",
   "execution_count": 83,
   "metadata": {},
   "outputs": [
    {
     "data": {
      "text/plain": [
       "OrderSendResult(retcode=10009, deal=0, order=0, volume=0.0, price=0.0, bid=0.0, ask=0.0, comment='Request executed', request_id=38, retcode_external=0, request=TradeRequest(action=6, magic=0, order=0, symbol='', volume=0.0, price=0.0, stoplimit=0.0, sl=61400.0, tp=61850.0, deviation=0, type=0, type_filling=0, type_time=0, expiration=0, comment='', position=165405573, position_by=0))"
      ]
     },
     "execution_count": 83,
     "metadata": {},
     "output_type": "execute_result"
    }
   ],
   "source": [
    "# modify order SL/TP\n",
    "\n",
    "request = {\n",
    "    \"action\": mt5.TRADE_ACTION_SLTP,\n",
    "    \"position\": 165405573,\n",
    "    \"sl\": 61400.0,  \n",
    "    \"tp\": 61850.0,  \n",
    "}\n",
    "\n",
    "result = mt5.order_send(request)\n",
    "result"
   ]
  },
  {
   "cell_type": "code",
   "execution_count": 85,
   "metadata": {},
   "outputs": [
    {
     "data": {
      "text/plain": [
       "OrderSendResult(retcode=10009, deal=0, order=165405584, volume=0.0, price=0.0, bid=0.0, ask=0.0, comment='Request executed', request_id=41, retcode_external=0, request=TradeRequest(action=8, magic=0, order=165405584, symbol='', volume=0.0, price=0.0, stoplimit=0.0, sl=0.0, tp=0.0, deviation=0, type=0, type_filling=0, type_time=0, expiration=0, comment='', position=0, position_by=0))"
      ]
     },
     "execution_count": 85,
     "metadata": {},
     "output_type": "execute_result"
    }
   ],
   "source": [
    "# delete order\n",
    "\n",
    "request = {\n",
    "    \"action\": mt5.TRADE_ACTION_REMOVE,\n",
    "    \"order\": 165405584,\n",
    "}\n",
    "\n",
    "result = mt5.order_send(request)\n",
    "result\n"
   ]
  },
  {
   "cell_type": "code",
   "execution_count": null,
   "metadata": {},
   "outputs": [],
   "source": []
  }
 ],
 "metadata": {
  "kernelspec": {
   "display_name": "Python 3 (ipykernel)",
   "language": "python",
   "name": "python3"
  },
  "language_info": {
   "codemirror_mode": {
    "name": "ipython",
    "version": 3
   },
   "file_extension": ".py",
   "mimetype": "text/x-python",
   "name": "python",
   "nbconvert_exporter": "python",
   "pygments_lexer": "ipython3",
   "version": "3.12.2"
  }
 },
 "nbformat": 4,
 "nbformat_minor": 4
}
