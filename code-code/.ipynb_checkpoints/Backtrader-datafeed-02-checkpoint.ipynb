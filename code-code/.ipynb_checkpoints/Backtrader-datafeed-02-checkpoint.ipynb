{
 "cells": [
  {
   "cell_type": "code",
   "execution_count": 2,
   "id": "d266fbaa-5fa7-441e-a0b0-6ca7c907c629",
   "metadata": {},
   "outputs": [],
   "source": [
    "import backtrader as bt\n",
    "import pandas as pd\n",
    "import yfinance as yf\n"
   ]
  },
  {
   "cell_type": "code",
   "execution_count": 4,
   "id": "02bec87a",
   "metadata": {},
   "outputs": [
    {
     "name": "stderr",
     "output_type": "stream",
     "text": [
      "[*********************100%%**********************]  1 of 1 completed\n",
      "[*********************100%%**********************]  1 of 1 completed\n"
     ]
    }
   ],
   "source": [
    "tsla_daily = yf.download('TSLA',start='2021-01-01')\n",
    "tsla_hourly = yf.download('TSLA',start='2021-01-01')"
   ]
  },
  {
   "cell_type": "code",
   "execution_count": 5,
   "id": "62aa72f5",
   "metadata": {},
   "outputs": [
    {
     "name": "stdout",
     "output_type": "stream",
     "text": [
      "<class 'pandas.core.frame.DataFrame'>\n",
      "DatetimeIndex: 792 entries, 2021-01-04 to 2024-02-27\n",
      "Data columns (total 6 columns):\n",
      " #   Column     Non-Null Count  Dtype  \n",
      "---  ------     --------------  -----  \n",
      " 0   Open       792 non-null    float64\n",
      " 1   High       792 non-null    float64\n",
      " 2   Low        792 non-null    float64\n",
      " 3   Close      792 non-null    float64\n",
      " 4   Adj Close  792 non-null    float64\n",
      " 5   Volume     792 non-null    int64  \n",
      "dtypes: float64(5), int64(1)\n",
      "memory usage: 43.3 KB\n"
     ]
    }
   ],
   "source": [
    "tsla_daily.info()"
   ]
  },
  {
   "cell_type": "code",
   "execution_count": 6,
   "id": "408c2df8",
   "metadata": {},
   "outputs": [
    {
     "name": "stdout",
     "output_type": "stream",
     "text": [
      "<class 'pandas.core.frame.DataFrame'>\n",
      "DatetimeIndex: 792 entries, 2021-01-04 to 2024-02-27\n",
      "Data columns (total 6 columns):\n",
      " #   Column     Non-Null Count  Dtype  \n",
      "---  ------     --------------  -----  \n",
      " 0   Open       792 non-null    float64\n",
      " 1   High       792 non-null    float64\n",
      " 2   Low        792 non-null    float64\n",
      " 3   Close      792 non-null    float64\n",
      " 4   Adj Close  792 non-null    float64\n",
      " 5   Volume     792 non-null    int64  \n",
      "dtypes: float64(5), int64(1)\n",
      "memory usage: 43.3 KB\n"
     ]
    }
   ],
   "source": [
    "tsla_hourly.info()"
   ]
  },
  {
   "cell_type": "code",
   "execution_count": 8,
   "id": "3d401ad4",
   "metadata": {},
   "outputs": [],
   "source": [
    "### parse the data into BT format\n",
    "tsla_daily_parsed = bt.feeds.PandasData(dataname=tsla_daily,\n",
    "                                        datetime=None,\n",
    "                                        open=0,\n",
    "                                        high=1,\n",
    "                                        low=2,\n",
    "                                        close=4,\n",
    "                                        volume=5,\n",
    "                                        openinterest=None)"
   ]
  },
  {
   "cell_type": "code",
   "execution_count": 9,
   "id": "b7273a21",
   "metadata": {},
   "outputs": [],
   "source": [
    "tsla_hourly_parsed = bt.feeds.PandasData(dataname=tsla_hourly,\n",
    "                                        datetime=None,\n",
    "                                        open=0,\n",
    "                                        high=1,\n",
    "                                        low=2,\n",
    "                                        close=4,\n",
    "                                        volume=5,\n",
    "                                        openinterest=None,\n",
    "                                        timeframe=bt.TimeFrame.Minutes)"
   ]
  },
  {
   "cell_type": "code",
   "execution_count": 10,
   "id": "ba62671c",
   "metadata": {},
   "outputs": [],
   "source": [
    "### add data\n",
    "cerebro = bt.Cerebro()\n"
   ]
  },
  {
   "cell_type": "code",
   "execution_count": 11,
   "id": "d29a050b",
   "metadata": {},
   "outputs": [
    {
     "data": {
      "text/plain": [
       "<backtrader.feeds.pandafeed.PandasData at 0x1eb8ac4eb10>"
      ]
     },
     "execution_count": 11,
     "metadata": {},
     "output_type": "execute_result"
    }
   ],
   "source": [
    "cerebro.adddata(tsla_daily_parsed)"
   ]
  },
  {
   "cell_type": "code",
   "execution_count": 17,
   "id": "b45dd3bd",
   "metadata": {},
   "outputs": [
    {
     "data": {
      "text/plain": [
       "[[<Figure size 640x480 with 4 Axes>]]"
      ]
     },
     "execution_count": 17,
     "metadata": {},
     "output_type": "execute_result"
    }
   ],
   "source": [
    "cerebro.run()\n",
    "\n",
    "from matplotlib import pyplot as plt\n",
    "\n",
    "%matplotlib widget\n",
    "cerebro.plot(iplot=False)"
   ]
  },
  {
   "cell_type": "code",
   "execution_count": 3,
   "id": "20080eff",
   "metadata": {},
   "outputs": [
    {
     "ename": "NameError",
     "evalue": "name 'bt' is not defined",
     "output_type": "error",
     "traceback": [
      "\u001b[1;31m---------------------------------------------------------------------------\u001b[0m",
      "\u001b[1;31mNameError\u001b[0m                                 Traceback (most recent call last)",
      "Cell \u001b[1;32mIn[3], line 1\u001b[0m\n\u001b[1;32m----> 1\u001b[0m cerebro \u001b[38;5;241m=\u001b[39m \u001b[43mbt\u001b[49m\u001b[38;5;241m.\u001b[39mCerebro()\n",
      "\u001b[1;31mNameError\u001b[0m: name 'bt' is not defined"
     ]
    }
   ],
   "source": [
    "cerebro = bt.Cerebro()\n"
   ]
  },
  {
   "cell_type": "code",
   "execution_count": null,
   "id": "a01e34ea",
   "metadata": {},
   "outputs": [],
   "source": []
  }
 ],
 "metadata": {
  "kernelspec": {
   "display_name": "Python 3 (ipykernel)",
   "language": "python",
   "name": "python3"
  },
  "language_info": {
   "codemirror_mode": {
    "name": "ipython",
    "version": 3
   },
   "file_extension": ".py",
   "mimetype": "text/x-python",
   "name": "python",
   "nbconvert_exporter": "python",
   "pygments_lexer": "ipython3",
   "version": "3.12.2"
  }
 },
 "nbformat": 4,
 "nbformat_minor": 5
}
