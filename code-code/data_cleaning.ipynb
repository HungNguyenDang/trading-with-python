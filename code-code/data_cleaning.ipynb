{
 "cells": [
  {
   "cell_type": "code",
   "execution_count": 1,
   "metadata": {},
   "outputs": [],
   "source": [
    "### this is for converting raw csv data in MT5 to usable in python\n",
    "\n",
    "import pandas as pd\n",
    "\n",
    "filepath = \"EURUSD_H1_201009010000_202012112300.csv\"\n",
    "df=pd.read_csv(filepath, sep=\"\\t\")\n",
    "\n",
    "# Combine the date and time columns into a single timestamp column\n",
    "df[\"timestamp\"] = pd.to_datetime(df[\"<DATE>\"] + \" \" + df[\"<TIME>\"], format=\"%Y.%m.%d %H:%M:%S\")\n",
    "\n",
    "# Set the timestamp column as the index\n",
    "df.set_index(\"timestamp\", inplace=True)\n",
    "\n",
    "# Drop unnecessary columns\n",
    "df.drop(columns=[\"<DATE>\", \"<TIME>\", \"<VOL>\"], inplace=True)\n",
    "\n",
    "# Rename columns by removing the angle brackets and converting to lowercase\n",
    "df.columns = [col.strip(\"<>\").lower() for col in df.columns]\n",
    "\n",
    "# Save the modified DataFrame to a new CSV file\n",
    "output_file_path = \"modified_data_eurusd.csv\"\n",
    "df.to_csv(output_file_path)"
   ]
  },
  {
   "cell_type": "code",
   "execution_count": 1,
   "metadata": {},
   "outputs": [],
   "source": [
    "### this is for extracting one year of data in the big csv file\n",
    "\n",
    "import pandas as pd\n",
    "\n",
    "file_path = \"modified_data_eurusd.csv\"\n",
    "df = pd.read_csv(file_path, parse_dates=[\"timestamp\"], index_col=\"timestamp\")\n",
    "\n",
    "# Extract data for the year 2019-2020\n",
    "start_date = \"2020-01-01\"\n",
    "end_date = \"2020-02-01\"\n",
    "df_2019_2020 = df[start_date:end_date]\n",
    "\n",
    "# Save the filtered DataFrame to a new CSV file\n",
    "output_file_path = \"modified_data_eurusd_2020_jan.csv\"\n",
    "df_2019_2020.to_csv(output_file_path)"
   ]
  },
  {
   "cell_type": "code",
   "execution_count": null,
   "metadata": {},
   "outputs": [],
   "source": []
  }
 ],
 "metadata": {
  "kernelspec": {
   "display_name": "Python 3",
   "language": "python",
   "name": "python3"
  },
  "language_info": {
   "codemirror_mode": {
    "name": "ipython",
    "version": 3
   },
   "file_extension": ".py",
   "mimetype": "text/x-python",
   "name": "python",
   "nbconvert_exporter": "python",
   "pygments_lexer": "ipython3",
   "version": "3.12.2"
  }
 },
 "nbformat": 4,
 "nbformat_minor": 2
}
